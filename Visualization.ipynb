{
 "cells": [
  {
   "cell_type": "code",
   "execution_count": 1,
   "metadata": {},
   "outputs": [],
   "source": [
    "%matplotlib inline\n",
    "import matplotlib as plt\n",
    "import numpy as np\n",
    "import matplotlib.pyplot as plt\n",
    "import matplotlib.image as mpimg\n",
    "from mpl_toolkits.axes_grid1 import ImageGrid\n",
    "import cv2\n",
    "import tensorflow_datasets as tfds\n",
    "import os"
   ]
  },
  {
   "cell_type": "markdown",
   "metadata": {},
   "source": [
    "## Layer 1: fucntions to visualize layer 1 with its effect on batch images"
   ]
  },
  {
   "cell_type": "code",
   "execution_count": 33,
   "metadata": {},
   "outputs": [],
   "source": [
    "def fmlayer1(n_filters, img, n_batch, model):\n",
    "    \n",
    "    \n",
    "    #Number of filters to show\n",
    "    num_filter_to_show = n_filters\n",
    "    \n",
    "    #Setting the grid\n",
    "    fig = plt.figure(figsize=(6., 108.))\n",
    "    grid = ImageGrid(fig, 111,  # similar to subplot(111)\n",
    "                     nrows_ncols=(num_filter_to_show, 3),  # creates 2x2 grid of axes\n",
    "                     axes_pad=0.1,  # pad between axes in inch.\n",
    "                     )\n",
    "\n",
    "    #Iterate over the filters\n",
    "    for i in range(num_filter_to_show):\n",
    "        \n",
    "        #Load the image of the result (feature map)\n",
    "        result_f = mpimg.imread('results/{}/feature_maps/fmp_layer_1_num_kernel_{}_batch_{}.jpg'.format(model,i,n_batch)) #/ 255.0\n",
    "        \n",
    "        #load the shape of the feature map to resize the other images to it\n",
    "        resize_w = result_f.shape[1]\n",
    "        resize_h = result_f.shape[0]\n",
    "      \n",
    "        #Original\n",
    "#         img_original = mpimg.imread(img) / 255.0\n",
    "        img_original = img\n",
    "        img_original = cv2.resize(img_original, (resize_h, resize_w))\n",
    "\n",
    "        #Filter\n",
    "        tmp = cv2.imread('results/{}/kernels/kn_layer_1_num_kernel_{}.jpg'.format(model,i))\n",
    "        cv2.cvtColor(tmp, cv2.COLOR_BGR2RGB)\n",
    "        filt = cv2.resize(tmp,(resize_h,resize_w))\n",
    "        \n",
    "        #iterate over the grid\n",
    "        for idx, (_, im) in enumerate(zip(grid, [img_original, result_f, filt])):\n",
    "            # Iterating over the grid returns the Axes.\n",
    "            ax = grid[3*i+idx]\n",
    "            ax.axis('off')\n",
    "            if(idx == 1):\n",
    "                ax.imshow(im,cmap='gray')\n",
    "            else:\n",
    "                ax.imshow(im)\n",
    "    \n",
    "    directory = f'results/{model}/visualizations'\n",
    "    if not os.path.exists(directory):\n",
    "        os.makedirs(directory)\n",
    "\n",
    "    plt.savefig(\"results/{}/visualizations/layer_1_batch_{}.svg\".format(model,n_batch), bbox_inches='tight')\n",
    "#     plt.show()\n",
    "    plt.close()"
   ]
  },
  {
   "cell_type": "code",
   "execution_count": 34,
   "metadata": {
    "jupyter": {
     "outputs_hidden": true
    }
   },
   "outputs": [],
   "source": [
    "# ds = tfds.load('cifar10', split='train', as_supervised=True)\n",
    "# ds = ds.take(32)\n",
    "def get_fmlayer1(model, n_batch, n_kernels):\n",
    "    ori_path = f'results/{model}/originals/original_nbatch_'\n",
    "    originals = []\n",
    "    for i in range(n_batch):\n",
    "        tmp_img = cv2.cvtColor(cv2.imread(ori_path + str(i) + '.jpg'), cv2.COLOR_BGR2RGB)\n",
    "        fmlayer1(n_kernels, tmp_img, i, model)\n"
   ]
  },
  {
   "cell_type": "markdown",
   "metadata": {},
   "source": [
    "## Layer n: Function to visualize Layer n and its effect over batch images"
   ]
  },
  {
   "cell_type": "markdown",
   "metadata": {},
   "source": [
    "First, we have a function to save or stage an img from a fig"
   ]
  },
  {
   "cell_type": "code",
   "execution_count": 35,
   "metadata": {},
   "outputs": [],
   "source": [
    "# define a function which returns an image as numpy array from figure\n",
    "import io\n",
    "def get_img_from_fig(fig, dpi=180):\n",
    "    buf = io.BytesIO()\n",
    "    fig.savefig(buf, format=\"png\", dpi=dpi, bbox_inches='tight')\n",
    "    buf.seek(0)\n",
    "    img_arr = np.frombuffer(buf.getvalue(), dtype=np.uint8)\n",
    "    buf.close()\n",
    "    img = cv2.imdecode(img_arr, 1)\n",
    "    img = cv2.cvtColor(img, cv2.COLOR_BGR2RGB)\n",
    "\n",
    "    return img"
   ]
  },
  {
   "cell_type": "markdown",
   "metadata": {},
   "source": [
    "Now, we have a function that retrieve all the feature maps of the last layer"
   ]
  },
  {
   "cell_type": "code",
   "execution_count": 36,
   "metadata": {},
   "outputs": [],
   "source": [
    "def fmlayern_0(n_filters, cols, layer, n_batch,model):    #n_filters, img, layer, n_batch, n_ch=1):\n",
    "    num_filter_to_show = n_filters\n",
    "\n",
    "    fig = plt.figure(figsize=(40., 54.))\n",
    "    grid = ImageGrid(fig, 111,  # similar to subplot(111)\n",
    "                     nrows_ncols=((num_filter_to_show//cols)+1, cols ),  # creates 2x2 grid of axes\n",
    "                     axes_pad=0.1,  # pad between axes in inch.\n",
    "                     )\n",
    "    cont = 0\n",
    "    for i in range((num_filter_to_show//cols)+1):\n",
    "        #Original\n",
    "#         img_original = mpimg.imread(img) / 255.0\n",
    "\n",
    "        \n",
    "        aux = []\n",
    "        for j in range(cols):\n",
    "            \n",
    "            if (cont < n_filters):\n",
    "                #Load the image test and normalize\n",
    "                result_f = mpimg.imread('results/{}/feature_maps/fmp_layer_{}_num_kernel_{}_batch_{}.jpg'.format(model,layer-1,cont,n_batch)) #/ 255.0\n",
    "                result_f = cv2.resize(result_f, (100,100))\n",
    "                cont += 1\n",
    "            \n",
    "            else:\n",
    "            \n",
    "                result_f = np.zeros([100,100,3],dtype=np.uint8)\n",
    "                result_f.fill(255) # or img[:] = 255\n",
    "            \n",
    "            aux.append(result_f)\n",
    "            \n",
    "        for idx, (_, im) in enumerate(zip(grid, aux )):\n",
    "            # Iterating over the grid returns the Axes.\n",
    "            ax = grid[cols*i+idx]\n",
    "            ax.axis('off')\n",
    "            ax.imshow(im,cmap='gray')\n",
    "\n",
    "#     plt.show()\n",
    "#     plt.axis('off')\n",
    "    data = get_img_from_fig(fig)\n",
    "    plt.close()\n",
    "    \n",
    "    return data"
   ]
  },
  {
   "cell_type": "markdown",
   "metadata": {},
   "source": [
    "The funtion below retrieves all the channels of the kernel that will filter the corresponding feature map."
   ]
  },
  {
   "cell_type": "code",
   "execution_count": 37,
   "metadata": {},
   "outputs": [],
   "source": [
    "def fmlayern_1(n_filters, cols, layer, n_kn, model):    #n_filters, img, layer, n_batch, n_ch=1):\n",
    "    num_filter_to_show = n_filters\n",
    "\n",
    "    fig = plt.figure(figsize=(40., 54.))\n",
    "    grid = ImageGrid(fig, 111,  # similar to subplot(111)\n",
    "                     nrows_ncols=((num_filter_to_show//cols)+1, cols ),  # creates 2x2 grid of axes\n",
    "                     axes_pad=0.1,  # pad between axes in inch.\n",
    "                     )\n",
    "    cont = 0\n",
    "    for i in range((num_filter_to_show//cols)+1):\n",
    "        #Original\n",
    "#         img_original = mpimg.imread(img) / 255.0\n",
    "\n",
    "        \n",
    "        aux = []\n",
    "        for j in range(cols):\n",
    "            \n",
    "            if (cont < n_filters):\n",
    "                #Load the image test and normalize\n",
    "                result_f = mpimg.imread('results/{}/kernels/kn_layer_{}_num_kernel_{}_ch_{}.jpg'.format(model,layer,n_kn,cont))\n",
    "                result_f = cv2.resize(result_f, (100,100))\n",
    "                cont += 1\n",
    "            \n",
    "            else:\n",
    "            \n",
    "                result_f = np.zeros([100, 100,3],dtype=np.uint8)\n",
    "                result_f.fill(255) # or img[:] = 255\n",
    "            \n",
    "            aux.append(result_f)\n",
    "\n",
    "        for idx, (_, im) in enumerate(zip(grid, aux )):\n",
    "            # Iterating over the grid returns the Axes.\n",
    "            ax = grid[cols*i+idx]\n",
    "            ax.axis('off')\n",
    "            ax.imshow(im,cmap='gray')\n",
    "\n",
    "#     plt.show()\n",
    "    data = get_img_from_fig(fig)\n",
    "    plt.close()\n",
    "    return data"
   ]
  },
  {
   "cell_type": "markdown",
   "metadata": {},
   "source": [
    "The next function will concatenate the feature maps of the last layer, the actual feature map of n_batch image and the channel os the filter of the actual feature map"
   ]
  },
  {
   "cell_type": "code",
   "execution_count": 38,
   "metadata": {},
   "outputs": [],
   "source": [
    "def concFig(fig1, fig2, layer, n_kn, n_batch, model):    #n_filters, img, layer, n_batch, n_ch=1):\n",
    "    \n",
    "    fig = plt.figure(figsize=(120., 54.))\n",
    "    grid = ImageGrid(fig, 111,  # similar to subplot(111)\n",
    "                     nrows_ncols=(1,3),  # creates 2x2 grid of axes\n",
    "                     axes_pad=0.1,  # pad between axes in inch.\n",
    "                     )\n",
    "    h = fig1.shape[0]\n",
    "    w = fig1.shape[1]\n",
    "    result_f = mpimg.imread('results/{}/feature_maps/fmp_layer_{}_num_kernel_{}_batch_{}.jpg'.format(model,layer,n_kn,n_batch))\n",
    "    result_f =  cv2.resize(result_f, (w,h))\n",
    "       \n",
    "    aux = [fig1, result_f, fig2]\n",
    "    for idx, (_, im) in enumerate(zip(grid, aux )):\n",
    "        # Iterating over the grid returns the Axes.\n",
    "        ax = grid[idx]\n",
    "        ax.axis('off')\n",
    "        ax.imshow(im, cmap='gray')\n",
    "\n",
    "    data = get_img_from_fig(fig)\n",
    "    plt.close()\n",
    "    return data"
   ]
  },
  {
   "cell_type": "markdown",
   "metadata": {},
   "source": [
    "This will take all the functions above and plot the visualization for all the layer that is required"
   ]
  },
  {
   "cell_type": "code",
   "execution_count": 39,
   "metadata": {},
   "outputs": [],
   "source": [
    "def plot_layer_n_batch_n(layer, n_batch, cols, num_kernels, n_ch, model):    #n_filters, img, layer, n_batch, n_ch=1):\n",
    "    \n",
    "    fig = plt.figure(figsize=(120., 54. * num_kernels))\n",
    "    grid = ImageGrid(fig, 111,  # similar to subplot(111)\n",
    "                     nrows_ncols=(num_kernels,1),  # creates 2x2 grid of axes\n",
    "                     axes_pad=0.1,  # pad between axes in inch.\n",
    "                     )\n",
    "    fig1 = fmlayern_0(n_ch, cols, layer, n_batch, model)\n",
    "    for i in range(num_kernels):\n",
    "#         fig1 = fmlayern_0(n_ch, cols, layer, n_batch)\n",
    "        fig2 = fmlayern_1(n_ch, cols, layer, i, model)\n",
    "        row = concFig(fig1, fig2,layer,i,n_batch, model)\n",
    "    \n",
    "        ax = grid[i]\n",
    "        ax.axis('off')\n",
    "        ax.imshow(row, cmap='gray')\n",
    "    \n",
    "    directory = f'results/{model}/visualizations'\n",
    "    if not os.path.exists(directory):\n",
    "        os.makedirs(directory)\n",
    "\n",
    "    plt.savefig(\"results/{}/visualizations/layer_{}_batch_{}.svg\".format(model,layer,n_batch), bbox_inches='tight')\n",
    "    plt.close()\n"
   ]
  },
  {
   "cell_type": "markdown",
   "metadata": {},
   "source": [
    "The last one just take a bucle to reproduce this proccess in all the layers that are required"
   ]
  },
  {
   "cell_type": "code",
   "execution_count": 40,
   "metadata": {},
   "outputs": [],
   "source": [
    "def plot_nlayer_vis(layers, n_batch, num_kernels, num_ch_perLayer, cols, model):\n",
    "    # layers = [2,3]\n",
    "    # n_batch = 3\n",
    "    # num_kernels = [32,32]\n",
    "    # num_ch_perlayer = [27,32]\n",
    "    # cols = 6\n",
    "    for i in range(n_batch):\n",
    "        for idx, layer in enumerate(layers):\n",
    "            print(f'Print ploting of {i} batch image in layer {layer}')\n",
    "            plot_layer_n_batch_n(layer, i, cols, num_kernels[idx], num_ch_perlayer[idx], model)\n",
    "        \n",
    "    "
   ]
  },
  {
   "cell_type": "markdown",
   "metadata": {},
   "source": [
    "## Excecutions"
   ]
  },
  {
   "cell_type": "code",
   "execution_count": 41,
   "metadata": {},
   "outputs": [],
   "source": [
    "layers = [2,3,4,5,6]\n",
    "n_batch = 1\n",
    "num_kernels = [10,10,10,10,10]\n",
    "num_ch_perlayer = [20,20,20,20,20]\n",
    "cols = 8"
   ]
  },
  {
   "cell_type": "code",
   "execution_count": 42,
   "metadata": {},
   "outputs": [],
   "source": [
    "get_fmlayer1('model12_init_30000_epochs_500', 3, 27)"
   ]
  },
  {
   "cell_type": "code",
   "execution_count": 43,
   "metadata": {},
   "outputs": [
    {
     "name": "stdout",
     "output_type": "stream",
     "text": [
      "Print ploting of 0 batch image in layer 2\n",
      "Print ploting of 0 batch image in layer 3\n",
      "Print ploting of 0 batch image in layer 4\n",
      "Print ploting of 0 batch image in layer 5\n",
      "Print ploting of 0 batch image in layer 6\n"
     ]
    }
   ],
   "source": [
    "model = 'model12_init_30000_epochs_500'\n",
    "plot_nlayer_vis(layers, n_batch, num_kernels, num_ch_perlayer, cols, model)"
   ]
  },
  {
   "cell_type": "code",
   "execution_count": 73,
   "metadata": {},
   "outputs": [],
   "source": [
    "get_fmlayer1('model6_dense_30000', 3, 27)"
   ]
  },
  {
   "cell_type": "code",
   "execution_count": 90,
   "metadata": {},
   "outputs": [
    {
     "name": "stdout",
     "output_type": "stream",
     "text": [
      "Print ploting of 0 batch image in layer 2\n",
      "Print ploting of 0 batch image in layer 3\n",
      "Print ploting of 0 batch image in layer 4\n",
      "Print ploting of 0 batch image in layer 5\n",
      "Print ploting of 0 batch image in layer 6\n"
     ]
    }
   ],
   "source": [
    "model = 'model6_dense_30000'\n",
    "plot_nlayer_vis(layers, n_batch, num_k ernels, num_ch_perlayer, cols, model)"
   ]
  },
  {
   "cell_type": "code",
   "execution_count": 74,
   "metadata": {},
   "outputs": [],
   "source": [
    "get_fmlayer1('model7_dense_30000_epochs_100', 3, 27)"
   ]
  },
  {
   "cell_type": "code",
   "execution_count": 91,
   "metadata": {},
   "outputs": [
    {
     "name": "stdout",
     "output_type": "stream",
     "text": [
      "Print ploting of 0 batch image in layer 2\n",
      "Print ploting of 0 batch image in layer 3\n",
      "Print ploting of 0 batch image in layer 4\n",
      "Print ploting of 0 batch image in layer 5\n",
      "Print ploting of 0 batch image in layer 6\n"
     ]
    }
   ],
   "source": [
    "model = 'model7_dense_30000_epochs_100'\n",
    "plot_nlayer_vis(layers, n_batch, num_kernels, num_ch_perlayer, cols, model)"
   ]
  },
  {
   "cell_type": "markdown",
   "metadata": {},
   "source": [
    "## Filters of Layer 1: Function to get all filter in layer 1 of a model"
   ]
  },
  {
   "cell_type": "markdown",
   "metadata": {},
   "source": [
    "Get all the filters in 3d of a given layer 1"
   ]
  },
  {
   "cell_type": "code",
   "execution_count": 45,
   "metadata": {},
   "outputs": [],
   "source": [
    "def get_filters_layer1(n_filters, cols, model):    #n_filters, img, layer, n_batch, n_ch=1):\n",
    "    num_filter_to_show = n_filters\n",
    "\n",
    "    fig = plt.figure(figsize=(40., 108.))\n",
    "    grid = ImageGrid(fig, 111,  # similar to subplot(111)\n",
    "                     nrows_ncols=((num_filter_to_show//cols)+1, cols ),  # creates 2x2 grid of axes\n",
    "                     axes_pad=0.1,  # pad between axes in inch.\n",
    "                     )\n",
    "    \n",
    "    for i in range((num_filter_to_show//cols)+1):\n",
    "       \n",
    "        aux = []\n",
    "        for j in range(cols):\n",
    "            \n",
    "            if ((cols*i)+j < n_filters):\n",
    "                #Load the image test and normalize\n",
    "                result_f = mpimg.imread('results/{}/kernels/kn_layer_1_num_kernel_{}.jpg'.format(model, (cols*i)+j))\n",
    "                cv2.cvtColor(result_f, cv2.COLOR_BGR2RGB)\n",
    "                result_f = cv2.resize(result_f, (100,100))\n",
    "            \n",
    "            else:\n",
    "            \n",
    "                result_f = np.zeros([100,100,3],dtype=np.uint8)\n",
    "                result_f.fill(255) # or img[:] = 255\n",
    "            \n",
    "            aux.append(result_f)\n",
    "\n",
    "        for idx, (_, im) in enumerate(zip(grid, aux )):\n",
    "            # Iterating over the grid returns the Axes.\n",
    "            ax = grid[cols*i+idx]\n",
    "            ax.axis('off')\n",
    "            ax.imshow(im,cmap='gray')\n",
    "\n",
    "#     plt.show()\n",
    "    directory = f'results/{model}/visualizations_filters'\n",
    "    if not os.path.exists(directory):\n",
    "        os.makedirs(directory)\n",
    "\n",
    "    plt.savefig(\"results/{}/visualizations_filters/layer_1.svg\".format(model), bbox_inches='tight')\n",
    "    plt.close()\n",
    "    "
   ]
  },
  {
   "cell_type": "markdown",
   "metadata": {},
   "source": [
    "This function is getting all the channels of a given kernel in a given layer for a specific batch feature map"
   ]
  },
  {
   "cell_type": "code",
   "execution_count": 19,
   "metadata": {},
   "outputs": [],
   "source": [
    "def get_channels(n_filters, cols, layer, n_kn, model):    #n_filters, img, layer, n_batch, n_ch=1):\n",
    "    num_filter_to_show = n_filters\n",
    "\n",
    "    fig = plt.figure(figsize=(40., 108.))\n",
    "    grid = ImageGrid(fig, 111,  # similar to subplot(111)\n",
    "                     nrows_ncols=((num_filter_to_show//cols)+1, cols ),  # creates 2x2 grid of axes\n",
    "                     axes_pad=0.1,  # pad between axes in inch.\n",
    "                     )\n",
    "    cont = 0\n",
    "    for i in range((num_filter_to_show//cols)+1):\n",
    "        \n",
    "        aux = []\n",
    "        for j in range(cols):\n",
    "            \n",
    "            if (cont < n_filters):\n",
    "                #Load the image test and normalize\n",
    "                result_f = mpimg.imread('results/{}/kernels/kn_layer_{}_num_kernel_{}_ch_{}.jpg'.format(model,layer,n_kn,cont))\n",
    "                result_f = cv2.resize(result_f, (100,100))\n",
    "                cont += 1\n",
    "            \n",
    "            else:\n",
    "            \n",
    "                result_f = np.zeros([100,100,3],dtype=np.uint8)\n",
    "                result_f.fill(255) # or img[:] = 255\n",
    "            \n",
    "            aux.append(result_f)\n",
    "\n",
    "        for idx, (_, im) in enumerate(zip(grid, aux )):\n",
    "            # Iterating over the grid returns the Axes.\n",
    "            ax = grid[cols*i+idx]\n",
    "            ax.axis('off')\n",
    "            ax.imshow(im,cmap='gray')\n",
    "\n",
    "#     plt.show()\n",
    "    data = get_img_from_fig(fig)\n",
    "    plt.close()\n",
    "    return data"
   ]
  },
  {
   "cell_type": "code",
   "execution_count": 24,
   "metadata": {},
   "outputs": [],
   "source": [
    "def kernels_per_layer(num_kernels, n_channels, cols, layer, model):\n",
    "    fig = plt.figure(figsize=(40., 27. *num_kernels))\n",
    "    grid = ImageGrid(fig, 111,  # similar to subplot(111)\n",
    "                     nrows_ncols=(num_kernels,1),  # creates 2x2 grid of axes\n",
    "                     axes_pad=0.1,  # pad between axes in inch.\n",
    "                     )\n",
    "    \n",
    "    for idx in range(num_kernels):\n",
    "        row = get_channels(n_channels, cols, layer, idx, model)\n",
    "        ax = grid[idx]\n",
    "        ax.axis('off')\n",
    "        ax.imshow(row, cmap='gray')\n",
    "    directory = f'results/{model}/visualizations_filters'\n",
    "    if not os.path.exists(directory):\n",
    "        os.makedirs(directory)\n",
    "\n",
    "    plt.savefig(\"results/{}/visualizations_filters/layer_{}_num_kernels_{}_num_ch_{}.svg\".format(model,layer, num_kernels, n_channels), bbox_inches='tight')\n",
    "    plt.close()\n",
    "    "
   ]
  },
  {
   "cell_type": "markdown",
   "metadata": {},
   "source": [
    "## Excecutions"
   ]
  },
  {
   "cell_type": "code",
   "execution_count": 7,
   "metadata": {},
   "outputs": [],
   "source": [
    "get_filters_layer1(27, 8, 'model9_full_tensor_30000_epochs_500')"
   ]
  },
  {
   "cell_type": "code",
   "execution_count": 47,
   "metadata": {},
   "outputs": [],
   "source": [
    "kernels_per_layer(10, 40, 8, 3, 'model1_conv_1000')"
   ]
  },
  {
   "cell_type": "code",
   "execution_count": 25,
   "metadata": {},
   "outputs": [],
   "source": [
    "kernels_per_layer(10, 27, 8, 3, 'model9_full_tensor_30000_epochs_500')"
   ]
  },
  {
   "cell_type": "code",
   "execution_count": 26,
   "metadata": {},
   "outputs": [],
   "source": [
    "kernels_per_layer(5, 54, 8, 4, 'model9_full_tensor_30000_epochs_500')"
   ]
  },
  {
   "cell_type": "code",
   "execution_count": 27,
   "metadata": {},
   "outputs": [],
   "source": [
    "kernels_per_layer(5, 54, 8, 5, 'model9_full_tensor_30000_epochs_500')"
   ]
  },
  {
   "cell_type": "code",
   "execution_count": 28,
   "metadata": {},
   "outputs": [],
   "source": [
    "kernels_per_layer(5, 108, 8, 6, 'model9_full_tensor_30000_epochs_500')"
   ]
  },
  {
   "cell_type": "code",
   "execution_count": 29,
   "metadata": {},
   "outputs": [],
   "source": [
    "get_filters_layer1(27, 8, 'model12_init_30000_epochs_500')\n",
    "kernels_per_layer(10, 27, 8, 2, 'model12_init_30000_epochs_500')\n",
    "kernels_per_layer(10, 27, 8, 3, 'model12_init_30000_epochs_500')\n",
    "kernels_per_layer(5, 54, 8, 4, 'model12_init_30000_epochs_500')\n",
    "kernels_per_layer(5, 54, 8, 5, 'model12_init_30000_epochs_500')\n",
    "kernels_per_layer(5, 108, 8, 6, 'model12_init_30000_epochs_500')"
   ]
  },
  {
   "cell_type": "code",
   "execution_count": 46,
   "metadata": {},
   "outputs": [],
   "source": [
    "get_filters_layer1(27, 8, 'model1_conv_1000')"
   ]
  },
  {
   "cell_type": "code",
   "execution_count": null,
   "metadata": {},
   "outputs": [],
   "source": []
  }
 ],
 "metadata": {
  "kernelspec": {
   "display_name": "Environment (conda_filters)",
   "language": "python",
   "name": "conda_filters"
  },
  "language_info": {
   "codemirror_mode": {
    "name": "ipython",
    "version": 3
   },
   "file_extension": ".py",
   "mimetype": "text/x-python",
   "name": "python",
   "nbconvert_exporter": "python",
   "pygments_lexer": "ipython3",
   "version": "3.8.6"
  }
 },
 "nbformat": 4,
 "nbformat_minor": 4
}
